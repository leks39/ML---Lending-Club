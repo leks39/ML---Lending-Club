{
 "cells": [
  {
   "cell_type": "markdown",
   "id": "cb1a5af9",
   "metadata": {},
   "source": [
    "# Predicting Loan defaults from Lending Club data"
   ]
  },
  {
   "cell_type": "code",
   "execution_count": 4,
   "id": "22bfab11",
   "metadata": {},
   "outputs": [],
   "source": [
    "#features used in this analysis are; \n",
    "# Home ownership, household income ($), debt to income ratio (dti) and credit score (fico)\n"
   ]
  },
  {
   "cell_type": "code",
   "execution_count": 36,
   "id": "78ecfd7d",
   "metadata": {},
   "outputs": [],
   "source": [
    "#import relevant libraries\n",
    "import pandas as pd\n",
    "import numpy as np\n",
    "import seaborn as sns\n",
    "import matplotlib.pyplot as plt\n",
    "from sklearn.model_selection import train_test_split\n",
    "from sklearn.linear_model import LogisticRegression\n",
    "from sklearn.metrics import accuracy_score, recall_score, precision_score, f1_score\n",
    "from sklearn.metrics import confusion_matrix"
   ]
  },
  {
   "cell_type": "code",
   "execution_count": 7,
   "id": "fcf8b23b",
   "metadata": {},
   "outputs": [],
   "source": [
    "#load data\n",
    "lending_data = pd.read_excel(\"C:\\\\Users\\\\ofagb\\\\OneDrive\\\\Documents\\\\lendingclubdata.xlsx\")"
   ]
  },
  {
   "cell_type": "code",
   "execution_count": 8,
   "id": "bdcfdec2",
   "metadata": {},
   "outputs": [
    {
     "data": {
      "text/html": [
       "<div>\n",
       "<style scoped>\n",
       "    .dataframe tbody tr th:only-of-type {\n",
       "        vertical-align: middle;\n",
       "    }\n",
       "\n",
       "    .dataframe tbody tr th {\n",
       "        vertical-align: top;\n",
       "    }\n",
       "\n",
       "    .dataframe thead th {\n",
       "        text-align: right;\n",
       "    }\n",
       "</style>\n",
       "<table border=\"1\" class=\"dataframe\">\n",
       "  <thead>\n",
       "    <tr style=\"text-align: right;\">\n",
       "      <th></th>\n",
       "      <th>home_ownership</th>\n",
       "      <th>income</th>\n",
       "      <th>dti</th>\n",
       "      <th>fico</th>\n",
       "      <th>loan_status</th>\n",
       "    </tr>\n",
       "  </thead>\n",
       "  <tbody>\n",
       "    <tr>\n",
       "      <th>0</th>\n",
       "      <td>1</td>\n",
       "      <td>44304.0</td>\n",
       "      <td>18.47</td>\n",
       "      <td>690</td>\n",
       "      <td>0</td>\n",
       "    </tr>\n",
       "    <tr>\n",
       "      <th>1</th>\n",
       "      <td>0</td>\n",
       "      <td>50000.0</td>\n",
       "      <td>29.62</td>\n",
       "      <td>735</td>\n",
       "      <td>1</td>\n",
       "    </tr>\n",
       "    <tr>\n",
       "      <th>2</th>\n",
       "      <td>0</td>\n",
       "      <td>64400.0</td>\n",
       "      <td>16.68</td>\n",
       "      <td>675</td>\n",
       "      <td>1</td>\n",
       "    </tr>\n",
       "    <tr>\n",
       "      <th>3</th>\n",
       "      <td>0</td>\n",
       "      <td>38500.0</td>\n",
       "      <td>33.73</td>\n",
       "      <td>660</td>\n",
       "      <td>0</td>\n",
       "    </tr>\n",
       "    <tr>\n",
       "      <th>4</th>\n",
       "      <td>1</td>\n",
       "      <td>118000.0</td>\n",
       "      <td>26.66</td>\n",
       "      <td>665</td>\n",
       "      <td>1</td>\n",
       "    </tr>\n",
       "    <tr>\n",
       "      <th>...</th>\n",
       "      <td>...</td>\n",
       "      <td>...</td>\n",
       "      <td>...</td>\n",
       "      <td>...</td>\n",
       "      <td>...</td>\n",
       "    </tr>\n",
       "    <tr>\n",
       "      <th>6995</th>\n",
       "      <td>1</td>\n",
       "      <td>180000.0</td>\n",
       "      <td>14.60</td>\n",
       "      <td>665</td>\n",
       "      <td>1</td>\n",
       "    </tr>\n",
       "    <tr>\n",
       "      <th>6996</th>\n",
       "      <td>1</td>\n",
       "      <td>32000.0</td>\n",
       "      <td>20.33</td>\n",
       "      <td>745</td>\n",
       "      <td>1</td>\n",
       "    </tr>\n",
       "    <tr>\n",
       "      <th>6997</th>\n",
       "      <td>1</td>\n",
       "      <td>80000.0</td>\n",
       "      <td>11.68</td>\n",
       "      <td>690</td>\n",
       "      <td>1</td>\n",
       "    </tr>\n",
       "    <tr>\n",
       "      <th>6998</th>\n",
       "      <td>0</td>\n",
       "      <td>37921.0</td>\n",
       "      <td>32.85</td>\n",
       "      <td>705</td>\n",
       "      <td>0</td>\n",
       "    </tr>\n",
       "    <tr>\n",
       "      <th>6999</th>\n",
       "      <td>1</td>\n",
       "      <td>60000.0</td>\n",
       "      <td>15.56</td>\n",
       "      <td>680</td>\n",
       "      <td>1</td>\n",
       "    </tr>\n",
       "  </tbody>\n",
       "</table>\n",
       "<p>7000 rows × 5 columns</p>\n",
       "</div>"
      ],
      "text/plain": [
       "      home_ownership    income    dti  fico  loan_status\n",
       "0                  1   44304.0  18.47   690            0\n",
       "1                  0   50000.0  29.62   735            1\n",
       "2                  0   64400.0  16.68   675            1\n",
       "3                  0   38500.0  33.73   660            0\n",
       "4                  1  118000.0  26.66   665            1\n",
       "...              ...       ...    ...   ...          ...\n",
       "6995               1  180000.0  14.60   665            1\n",
       "6996               1   32000.0  20.33   745            1\n",
       "6997               1   80000.0  11.68   690            1\n",
       "6998               0   37921.0  32.85   705            0\n",
       "6999               1   60000.0  15.56   680            1\n",
       "\n",
       "[7000 rows x 5 columns]"
      ]
     },
     "execution_count": 8,
     "metadata": {},
     "output_type": "execute_result"
    }
   ],
   "source": [
    "lending_data"
   ]
  },
  {
   "cell_type": "code",
   "execution_count": 9,
   "id": "cf9781f5",
   "metadata": {},
   "outputs": [
    {
     "data": {
      "text/html": [
       "<div>\n",
       "<style scoped>\n",
       "    .dataframe tbody tr th:only-of-type {\n",
       "        vertical-align: middle;\n",
       "    }\n",
       "\n",
       "    .dataframe tbody tr th {\n",
       "        vertical-align: top;\n",
       "    }\n",
       "\n",
       "    .dataframe thead th {\n",
       "        text-align: right;\n",
       "    }\n",
       "</style>\n",
       "<table border=\"1\" class=\"dataframe\">\n",
       "  <thead>\n",
       "    <tr style=\"text-align: right;\">\n",
       "      <th></th>\n",
       "      <th>home_ownership</th>\n",
       "      <th>income</th>\n",
       "      <th>dti</th>\n",
       "      <th>fico</th>\n",
       "      <th>loan_status</th>\n",
       "    </tr>\n",
       "  </thead>\n",
       "  <tbody>\n",
       "    <tr>\n",
       "      <th>home_ownership</th>\n",
       "      <td>1.000000</td>\n",
       "      <td>0.178067</td>\n",
       "      <td>-0.010908</td>\n",
       "      <td>0.121495</td>\n",
       "      <td>0.077422</td>\n",
       "    </tr>\n",
       "    <tr>\n",
       "      <th>income</th>\n",
       "      <td>0.178067</td>\n",
       "      <td>1.000000</td>\n",
       "      <td>-0.216369</td>\n",
       "      <td>0.093997</td>\n",
       "      <td>0.057636</td>\n",
       "    </tr>\n",
       "    <tr>\n",
       "      <th>dti</th>\n",
       "      <td>-0.010908</td>\n",
       "      <td>-0.216369</td>\n",
       "      <td>1.000000</td>\n",
       "      <td>-0.110281</td>\n",
       "      <td>-0.139207</td>\n",
       "    </tr>\n",
       "    <tr>\n",
       "      <th>fico</th>\n",
       "      <td>0.121495</td>\n",
       "      <td>0.093997</td>\n",
       "      <td>-0.110281</td>\n",
       "      <td>1.000000</td>\n",
       "      <td>0.137103</td>\n",
       "    </tr>\n",
       "    <tr>\n",
       "      <th>loan_status</th>\n",
       "      <td>0.077422</td>\n",
       "      <td>0.057636</td>\n",
       "      <td>-0.139207</td>\n",
       "      <td>0.137103</td>\n",
       "      <td>1.000000</td>\n",
       "    </tr>\n",
       "  </tbody>\n",
       "</table>\n",
       "</div>"
      ],
      "text/plain": [
       "                home_ownership    income       dti      fico  loan_status\n",
       "home_ownership        1.000000  0.178067 -0.010908  0.121495     0.077422\n",
       "income                0.178067  1.000000 -0.216369  0.093997     0.057636\n",
       "dti                  -0.010908 -0.216369  1.000000 -0.110281    -0.139207\n",
       "fico                  0.121495  0.093997 -0.110281  1.000000     0.137103\n",
       "loan_status           0.077422  0.057636 -0.139207  0.137103     1.000000"
      ]
     },
     "execution_count": 9,
     "metadata": {},
     "output_type": "execute_result"
    }
   ],
   "source": [
    "lending_data.corr() #checking correlation matrix for multicolinearity among features"
   ]
  },
  {
   "cell_type": "code",
   "execution_count": 29,
   "id": "54c108b8",
   "metadata": {},
   "outputs": [
    {
     "data": {
      "text/plain": [
       "home_ownership      int64\n",
       "income            float64\n",
       "dti               float64\n",
       "fico                int64\n",
       "loan_status         int64\n",
       "dtype: object"
      ]
     },
     "execution_count": 29,
     "metadata": {},
     "output_type": "execute_result"
    }
   ],
   "source": [
    "lending_data.dtypes #checking data types"
   ]
  },
  {
   "cell_type": "code",
   "execution_count": 10,
   "id": "6cffae6f",
   "metadata": {},
   "outputs": [
    {
     "data": {
      "text/plain": [
       "home_ownership    0\n",
       "income            0\n",
       "dti               0\n",
       "fico              0\n",
       "loan_status       0\n",
       "dtype: int64"
      ]
     },
     "execution_count": 10,
     "metadata": {},
     "output_type": "execute_result"
    }
   ],
   "source": [
    "lending_data.isnull().sum()  #checking for null values in dataset"
   ]
  },
  {
   "cell_type": "code",
   "execution_count": 11,
   "id": "3865410b",
   "metadata": {},
   "outputs": [],
   "source": [
    "#Split Features (X variables) and Target (Y variable)\n",
    "X = lending_data.drop(columns = 'loan_status', axis = 1)\n",
    "Y = lending_data['loan_status']"
   ]
  },
  {
   "cell_type": "code",
   "execution_count": 12,
   "id": "9a440ba7",
   "metadata": {},
   "outputs": [
    {
     "data": {
      "text/html": [
       "<div>\n",
       "<style scoped>\n",
       "    .dataframe tbody tr th:only-of-type {\n",
       "        vertical-align: middle;\n",
       "    }\n",
       "\n",
       "    .dataframe tbody tr th {\n",
       "        vertical-align: top;\n",
       "    }\n",
       "\n",
       "    .dataframe thead th {\n",
       "        text-align: right;\n",
       "    }\n",
       "</style>\n",
       "<table border=\"1\" class=\"dataframe\">\n",
       "  <thead>\n",
       "    <tr style=\"text-align: right;\">\n",
       "      <th></th>\n",
       "      <th>home_ownership</th>\n",
       "      <th>income</th>\n",
       "      <th>dti</th>\n",
       "      <th>fico</th>\n",
       "    </tr>\n",
       "  </thead>\n",
       "  <tbody>\n",
       "    <tr>\n",
       "      <th>0</th>\n",
       "      <td>1</td>\n",
       "      <td>44304.0</td>\n",
       "      <td>18.47</td>\n",
       "      <td>690</td>\n",
       "    </tr>\n",
       "    <tr>\n",
       "      <th>1</th>\n",
       "      <td>0</td>\n",
       "      <td>50000.0</td>\n",
       "      <td>29.62</td>\n",
       "      <td>735</td>\n",
       "    </tr>\n",
       "    <tr>\n",
       "      <th>2</th>\n",
       "      <td>0</td>\n",
       "      <td>64400.0</td>\n",
       "      <td>16.68</td>\n",
       "      <td>675</td>\n",
       "    </tr>\n",
       "    <tr>\n",
       "      <th>3</th>\n",
       "      <td>0</td>\n",
       "      <td>38500.0</td>\n",
       "      <td>33.73</td>\n",
       "      <td>660</td>\n",
       "    </tr>\n",
       "    <tr>\n",
       "      <th>4</th>\n",
       "      <td>1</td>\n",
       "      <td>118000.0</td>\n",
       "      <td>26.66</td>\n",
       "      <td>665</td>\n",
       "    </tr>\n",
       "    <tr>\n",
       "      <th>...</th>\n",
       "      <td>...</td>\n",
       "      <td>...</td>\n",
       "      <td>...</td>\n",
       "      <td>...</td>\n",
       "    </tr>\n",
       "    <tr>\n",
       "      <th>6995</th>\n",
       "      <td>1</td>\n",
       "      <td>180000.0</td>\n",
       "      <td>14.60</td>\n",
       "      <td>665</td>\n",
       "    </tr>\n",
       "    <tr>\n",
       "      <th>6996</th>\n",
       "      <td>1</td>\n",
       "      <td>32000.0</td>\n",
       "      <td>20.33</td>\n",
       "      <td>745</td>\n",
       "    </tr>\n",
       "    <tr>\n",
       "      <th>6997</th>\n",
       "      <td>1</td>\n",
       "      <td>80000.0</td>\n",
       "      <td>11.68</td>\n",
       "      <td>690</td>\n",
       "    </tr>\n",
       "    <tr>\n",
       "      <th>6998</th>\n",
       "      <td>0</td>\n",
       "      <td>37921.0</td>\n",
       "      <td>32.85</td>\n",
       "      <td>705</td>\n",
       "    </tr>\n",
       "    <tr>\n",
       "      <th>6999</th>\n",
       "      <td>1</td>\n",
       "      <td>60000.0</td>\n",
       "      <td>15.56</td>\n",
       "      <td>680</td>\n",
       "    </tr>\n",
       "  </tbody>\n",
       "</table>\n",
       "<p>7000 rows × 4 columns</p>\n",
       "</div>"
      ],
      "text/plain": [
       "      home_ownership    income    dti  fico\n",
       "0                  1   44304.0  18.47   690\n",
       "1                  0   50000.0  29.62   735\n",
       "2                  0   64400.0  16.68   675\n",
       "3                  0   38500.0  33.73   660\n",
       "4                  1  118000.0  26.66   665\n",
       "...              ...       ...    ...   ...\n",
       "6995               1  180000.0  14.60   665\n",
       "6996               1   32000.0  20.33   745\n",
       "6997               1   80000.0  11.68   690\n",
       "6998               0   37921.0  32.85   705\n",
       "6999               1   60000.0  15.56   680\n",
       "\n",
       "[7000 rows x 4 columns]"
      ]
     },
     "execution_count": 12,
     "metadata": {},
     "output_type": "execute_result"
    }
   ],
   "source": [
    "X #new df containing only features"
   ]
  },
  {
   "cell_type": "code",
   "execution_count": 13,
   "id": "8aacd3d4",
   "metadata": {},
   "outputs": [
    {
     "data": {
      "text/plain": [
       "0       0\n",
       "1       1\n",
       "2       1\n",
       "3       0\n",
       "4       1\n",
       "       ..\n",
       "6995    1\n",
       "6996    1\n",
       "6997    1\n",
       "6998    0\n",
       "6999    1\n",
       "Name: loan_status, Length: 7000, dtype: int64"
      ]
     },
     "execution_count": 13,
     "metadata": {},
     "output_type": "execute_result"
    }
   ],
   "source": [
    "Y #new df containing only target"
   ]
  },
  {
   "cell_type": "code",
   "execution_count": 15,
   "id": "f3811792",
   "metadata": {},
   "outputs": [
    {
     "data": {
      "text/html": [
       "<div>\n",
       "<style scoped>\n",
       "    .dataframe tbody tr th:only-of-type {\n",
       "        vertical-align: middle;\n",
       "    }\n",
       "\n",
       "    .dataframe tbody tr th {\n",
       "        vertical-align: top;\n",
       "    }\n",
       "\n",
       "    .dataframe thead th {\n",
       "        text-align: right;\n",
       "    }\n",
       "</style>\n",
       "<table border=\"1\" class=\"dataframe\">\n",
       "  <thead>\n",
       "    <tr style=\"text-align: right;\">\n",
       "      <th></th>\n",
       "      <th>home_ownership</th>\n",
       "      <th>income</th>\n",
       "      <th>dti</th>\n",
       "      <th>fico</th>\n",
       "    </tr>\n",
       "  </thead>\n",
       "  <tbody>\n",
       "    <tr>\n",
       "      <th>0</th>\n",
       "      <td>0.809651</td>\n",
       "      <td>-0.556232</td>\n",
       "      <td>0.053102</td>\n",
       "      <td>-0.163701</td>\n",
       "    </tr>\n",
       "    <tr>\n",
       "      <th>1</th>\n",
       "      <td>-1.234923</td>\n",
       "      <td>-0.451393</td>\n",
       "      <td>1.307386</td>\n",
       "      <td>1.262539</td>\n",
       "    </tr>\n",
       "    <tr>\n",
       "      <th>2</th>\n",
       "      <td>-1.234923</td>\n",
       "      <td>-0.186349</td>\n",
       "      <td>-0.148259</td>\n",
       "      <td>-0.639114</td>\n",
       "    </tr>\n",
       "    <tr>\n",
       "      <th>3</th>\n",
       "      <td>-1.234923</td>\n",
       "      <td>-0.663060</td>\n",
       "      <td>1.769728</td>\n",
       "      <td>-1.114527</td>\n",
       "    </tr>\n",
       "    <tr>\n",
       "      <th>4</th>\n",
       "      <td>0.809651</td>\n",
       "      <td>0.800204</td>\n",
       "      <td>0.974410</td>\n",
       "      <td>-0.956056</td>\n",
       "    </tr>\n",
       "    <tr>\n",
       "      <th>...</th>\n",
       "      <td>...</td>\n",
       "      <td>...</td>\n",
       "      <td>...</td>\n",
       "      <td>...</td>\n",
       "    </tr>\n",
       "    <tr>\n",
       "      <th>6995</th>\n",
       "      <td>0.809651</td>\n",
       "      <td>1.941365</td>\n",
       "      <td>-0.382242</td>\n",
       "      <td>-0.956056</td>\n",
       "    </tr>\n",
       "    <tr>\n",
       "      <th>6996</th>\n",
       "      <td>0.809651</td>\n",
       "      <td>-0.782698</td>\n",
       "      <td>0.262337</td>\n",
       "      <td>1.579481</td>\n",
       "    </tr>\n",
       "    <tr>\n",
       "      <th>6997</th>\n",
       "      <td>0.809651</td>\n",
       "      <td>0.100782</td>\n",
       "      <td>-0.710718</td>\n",
       "      <td>-0.163701</td>\n",
       "    </tr>\n",
       "    <tr>\n",
       "      <th>6998</th>\n",
       "      <td>-1.234923</td>\n",
       "      <td>-0.673717</td>\n",
       "      <td>1.670735</td>\n",
       "      <td>0.311713</td>\n",
       "    </tr>\n",
       "    <tr>\n",
       "      <th>6999</th>\n",
       "      <td>0.809651</td>\n",
       "      <td>-0.267334</td>\n",
       "      <td>-0.274250</td>\n",
       "      <td>-0.480643</td>\n",
       "    </tr>\n",
       "  </tbody>\n",
       "</table>\n",
       "<p>7000 rows × 4 columns</p>\n",
       "</div>"
      ],
      "text/plain": [
       "      home_ownership    income       dti      fico\n",
       "0           0.809651 -0.556232  0.053102 -0.163701\n",
       "1          -1.234923 -0.451393  1.307386  1.262539\n",
       "2          -1.234923 -0.186349 -0.148259 -0.639114\n",
       "3          -1.234923 -0.663060  1.769728 -1.114527\n",
       "4           0.809651  0.800204  0.974410 -0.956056\n",
       "...              ...       ...       ...       ...\n",
       "6995        0.809651  1.941365 -0.382242 -0.956056\n",
       "6996        0.809651 -0.782698  0.262337  1.579481\n",
       "6997        0.809651  0.100782 -0.710718 -0.163701\n",
       "6998       -1.234923 -0.673717  1.670735  0.311713\n",
       "6999        0.809651 -0.267334 -0.274250 -0.480643\n",
       "\n",
       "[7000 rows x 4 columns]"
      ]
     },
     "execution_count": 15,
     "metadata": {},
     "output_type": "execute_result"
    }
   ],
   "source": [
    "#Feature scaling X\n",
    "X = (X - X.mean()) / X.std()\n",
    "X"
   ]
  },
  {
   "cell_type": "code",
   "execution_count": 16,
   "id": "1653e71a",
   "metadata": {},
   "outputs": [],
   "source": [
    "#Splitting X in training and test set\n",
    "X_train, X_test, Y_train, Y_test = train_test_split(X, Y, test_size = 0.2, stratify = Y, random_state = 42)"
   ]
  },
  {
   "cell_type": "code",
   "execution_count": 17,
   "id": "676a0860",
   "metadata": {},
   "outputs": [
    {
     "name": "stdout",
     "output_type": "stream",
     "text": [
      "(7000, 4) (5600, 4) (1400, 4)\n"
     ]
    }
   ],
   "source": [
    "print(X.shape, X_train.shape, X_test.shape) #training data 80% (5600) and test data 20% (1400)"
   ]
  },
  {
   "cell_type": "code",
   "execution_count": 18,
   "id": "9af0ea4e",
   "metadata": {},
   "outputs": [],
   "source": [
    "#Training model using logistic regression\n",
    "model = LogisticRegression() "
   ]
  },
  {
   "cell_type": "code",
   "execution_count": 19,
   "id": "5fb49490",
   "metadata": {},
   "outputs": [
    {
     "data": {
      "text/plain": [
       "LogisticRegression()"
      ]
     },
     "execution_count": 19,
     "metadata": {},
     "output_type": "execute_result"
    }
   ],
   "source": [
    "model.fit(X_train, Y_train)"
   ]
  },
  {
   "cell_type": "code",
   "execution_count": 31,
   "id": "f26cccec",
   "metadata": {},
   "outputs": [],
   "source": [
    "#Model evaluation using Accuracy score\n",
    "X_train_prediction = model.predict(X_train)\n",
    "training_data_accuracy = accuracy_score(X_train_prediction, Y_train)"
   ]
  },
  {
   "cell_type": "code",
   "execution_count": 32,
   "id": "95a1efa6",
   "metadata": {},
   "outputs": [
    {
     "name": "stdout",
     "output_type": "stream",
     "text": [
      "Accuracy on training data: 79.18 %\n"
     ]
    }
   ],
   "source": [
    "print('Accuracy on training data:', round(training_data_accuracy*100,2), '%')"
   ]
  },
  {
   "cell_type": "code",
   "execution_count": 33,
   "id": "b612a4ac",
   "metadata": {},
   "outputs": [],
   "source": [
    "X_test_prediction = model.predict(X_test)\n",
    "test_data_accuracy = accuracy_score(X_test_prediction, Y_test)"
   ]
  },
  {
   "cell_type": "code",
   "execution_count": 34,
   "id": "26c888e6",
   "metadata": {},
   "outputs": [
    {
     "name": "stdout",
     "output_type": "stream",
     "text": [
      "Accuracy on test data: 79.14 %\n"
     ]
    }
   ],
   "source": [
    "print('Accuracy on test data:', round(test_data_accuracy*100,2), '%')"
   ]
  },
  {
   "cell_type": "code",
   "execution_count": 39,
   "id": "9be05f7d",
   "metadata": {},
   "outputs": [
    {
     "name": "stdout",
     "output_type": "stream",
     "text": [
      "[[   0  292]\n",
      " [   0 1108]]\n"
     ]
    }
   ],
   "source": [
    "#Confusion Matrix\n",
    "cf_matrix = confusion_matrix(Y_test, X_test_prediction)\n",
    "print(cf_matrix)"
   ]
  },
  {
   "cell_type": "code",
   "execution_count": 42,
   "id": "1b6cc6ea",
   "metadata": {},
   "outputs": [
    {
     "name": "stdout",
     "output_type": "stream",
     "text": [
      "0 292 0 1108\n"
     ]
    }
   ],
   "source": [
    "tn,fp,fn,tp = cf_matrix.ravel() #true positive (tp), false positive (fp),false negative (fn), true positive (tp)\n",
    "print(tn,fp,fn,tp)"
   ]
  },
  {
   "cell_type": "code",
   "execution_count": 44,
   "id": "3d9cebba",
   "metadata": {},
   "outputs": [
    {
     "data": {
      "text/plain": [
       "<AxesSubplot:>"
      ]
     },
     "execution_count": 44,
     "metadata": {},
     "output_type": "execute_result"
    },
    {
     "data": {
      "image/png": "[encoded data removed]",
      "text/plain": [
       "<Figure size 432x288 with 2 Axes>"
      ]
     },
     "metadata": {
      "needs_background": "light"
     },
     "output_type": "display_data"
    }
   ],
   "source": [
    "#Visualizing Confusion Matrix # Accuracy Score = (tp+tn)/ (tp+tn+fp+fn) or (1108+0)/(1108+0+292+0)\n",
    "sns.heatmap(cf_matrix, annot = True)"
   ]
  },
  {
   "cell_type": "code",
   "execution_count": 45,
   "id": "8d531078",
   "metadata": {},
   "outputs": [],
   "source": [
    "#Use model for predictions\n",
    "data = (1,125000,32.63, 685) #copy features of any observation from the dataset excluding target\n",
    "data_numpy_array = np.asarray(data) #converting data to numpy array"
   ]
  },
  {
   "cell_type": "code",
   "execution_count": 46,
   "id": "a9d33bd8",
   "metadata": {},
   "outputs": [],
   "source": [
    "data_reshaped = data_numpy_array.reshape(1,-1)"
   ]
  },
  {
   "cell_type": "code",
   "execution_count": 47,
   "id": "4b5d1937",
   "metadata": {},
   "outputs": [
    {
     "name": "stdout",
     "output_type": "stream",
     "text": [
      "[1]\n"
     ]
    },
    {
     "name": "stderr",
     "output_type": "stream",
     "text": [
      "C:\\Users\\ofagb\\anaconda3\\lib\\site-packages\\sklearn\\base.py:450: UserWarning: X does not have valid feature names, but LogisticRegression was fitted with feature names\n",
      "  warnings.warn(\n"
     ]
    }
   ],
   "source": [
    "prediction = model.predict(data_reshaped)\n",
    "print(prediction) #correct prediciton as target for observation =1"
   ]
  },
  {
   "cell_type": "code",
   "execution_count": null,
   "id": "0f62438c",
   "metadata": {},
   "outputs": [],
   "source": []
  }
 ],
 "metadata": {
  "kernelspec": {
   "display_name": "Python 3 (ipykernel)",
   "language": "python",
   "name": "python3"
  },
  "language_info": {
   "codemirror_mode": {
    "name": "ipython",
    "version": 3
   },
   "file_extension": ".py",
   "mimetype": "text/x-python",
   "name": "python",
   "nbconvert_exporter": "python",
   "pygments_lexer": "ipython3",
   "version": "3.9.12"
  }
 },
 "nbformat": 4,
 "nbformat_minor": 5
}
